{
 "cells": [
  {
   "cell_type": "markdown",
   "id": "50fb5888",
   "metadata": {},
   "source": [
    "Import necessary dependencies"
   ]
  },
  {
   "cell_type": "code",
   "execution_count": 1,
   "id": "9deaec95",
   "metadata": {},
   "outputs": [],
   "source": [
    "import numpy as np\n",
    "import pandas as pd\n",
    "from pandas.plotting import scatter_matrix\n",
    "import matplotlib.pyplot as plt\n",
    "from sklearn.preprocessing import LabelEncoder\n",
    "from sklearn.model_selection import train_test_split\n",
    "from sklearn.linear_model import LinearRegression\n",
    "from sklearn.metrics import mean_squared_error, mean_absolute_error"
   ]
  },
  {
   "cell_type": "markdown",
   "id": "3f1c2ab4",
   "metadata": {},
   "source": [
    "Data analysis"
   ]
  },
  {
   "cell_type": "code",
   "execution_count": 2,
   "id": "d5e38ba0",
   "metadata": {},
   "outputs": [],
   "source": [
    "df = pd.read_csv(r\"Datasets/Medical charges/insurance.csv\")"
   ]
  },
  {
   "cell_type": "code",
   "execution_count": 3,
   "id": "3928862b",
   "metadata": {},
   "outputs": [
    {
     "data": {
      "text/html": [
       "<div>\n",
       "<style scoped>\n",
       "    .dataframe tbody tr th:only-of-type {\n",
       "        vertical-align: middle;\n",
       "    }\n",
       "\n",
       "    .dataframe tbody tr th {\n",
       "        vertical-align: top;\n",
       "    }\n",
       "\n",
       "    .dataframe thead th {\n",
       "        text-align: right;\n",
       "    }\n",
       "</style>\n",
       "<table border=\"1\" class=\"dataframe\">\n",
       "  <thead>\n",
       "    <tr style=\"text-align: right;\">\n",
       "      <th></th>\n",
       "      <th>age</th>\n",
       "      <th>sex</th>\n",
       "      <th>bmi</th>\n",
       "      <th>children</th>\n",
       "      <th>smoker</th>\n",
       "      <th>region</th>\n",
       "      <th>charges</th>\n",
       "    </tr>\n",
       "  </thead>\n",
       "  <tbody>\n",
       "    <tr>\n",
       "      <th>0</th>\n",
       "      <td>19</td>\n",
       "      <td>female</td>\n",
       "      <td>27.900</td>\n",
       "      <td>0</td>\n",
       "      <td>yes</td>\n",
       "      <td>southwest</td>\n",
       "      <td>16884.92400</td>\n",
       "    </tr>\n",
       "    <tr>\n",
       "      <th>1</th>\n",
       "      <td>18</td>\n",
       "      <td>male</td>\n",
       "      <td>33.770</td>\n",
       "      <td>1</td>\n",
       "      <td>no</td>\n",
       "      <td>southeast</td>\n",
       "      <td>1725.55230</td>\n",
       "    </tr>\n",
       "    <tr>\n",
       "      <th>2</th>\n",
       "      <td>28</td>\n",
       "      <td>male</td>\n",
       "      <td>33.000</td>\n",
       "      <td>3</td>\n",
       "      <td>no</td>\n",
       "      <td>southeast</td>\n",
       "      <td>4449.46200</td>\n",
       "    </tr>\n",
       "    <tr>\n",
       "      <th>3</th>\n",
       "      <td>33</td>\n",
       "      <td>male</td>\n",
       "      <td>22.705</td>\n",
       "      <td>0</td>\n",
       "      <td>no</td>\n",
       "      <td>northwest</td>\n",
       "      <td>21984.47061</td>\n",
       "    </tr>\n",
       "    <tr>\n",
       "      <th>4</th>\n",
       "      <td>32</td>\n",
       "      <td>male</td>\n",
       "      <td>28.880</td>\n",
       "      <td>0</td>\n",
       "      <td>no</td>\n",
       "      <td>northwest</td>\n",
       "      <td>3866.85520</td>\n",
       "    </tr>\n",
       "  </tbody>\n",
       "</table>\n",
       "</div>"
      ],
      "text/plain": [
       "   age     sex     bmi  children smoker     region      charges\n",
       "0   19  female  27.900         0    yes  southwest  16884.92400\n",
       "1   18    male  33.770         1     no  southeast   1725.55230\n",
       "2   28    male  33.000         3     no  southeast   4449.46200\n",
       "3   33    male  22.705         0     no  northwest  21984.47061\n",
       "4   32    male  28.880         0     no  northwest   3866.85520"
      ]
     },
     "execution_count": 3,
     "metadata": {},
     "output_type": "execute_result"
    }
   ],
   "source": [
    "df.head()"
   ]
  },
  {
   "cell_type": "code",
   "execution_count": 4,
   "id": "d973cf67",
   "metadata": {},
   "outputs": [
    {
     "data": {
      "text/html": [
       "<div>\n",
       "<style scoped>\n",
       "    .dataframe tbody tr th:only-of-type {\n",
       "        vertical-align: middle;\n",
       "    }\n",
       "\n",
       "    .dataframe tbody tr th {\n",
       "        vertical-align: top;\n",
       "    }\n",
       "\n",
       "    .dataframe thead th {\n",
       "        text-align: right;\n",
       "    }\n",
       "</style>\n",
       "<table border=\"1\" class=\"dataframe\">\n",
       "  <thead>\n",
       "    <tr style=\"text-align: right;\">\n",
       "      <th></th>\n",
       "      <th>age</th>\n",
       "      <th>bmi</th>\n",
       "      <th>children</th>\n",
       "      <th>charges</th>\n",
       "    </tr>\n",
       "  </thead>\n",
       "  <tbody>\n",
       "    <tr>\n",
       "      <th>count</th>\n",
       "      <td>1338.000000</td>\n",
       "      <td>1338.000000</td>\n",
       "      <td>1338.000000</td>\n",
       "      <td>1338.000000</td>\n",
       "    </tr>\n",
       "    <tr>\n",
       "      <th>mean</th>\n",
       "      <td>39.207025</td>\n",
       "      <td>30.663397</td>\n",
       "      <td>1.094918</td>\n",
       "      <td>13270.422265</td>\n",
       "    </tr>\n",
       "    <tr>\n",
       "      <th>std</th>\n",
       "      <td>14.049960</td>\n",
       "      <td>6.098187</td>\n",
       "      <td>1.205493</td>\n",
       "      <td>12110.011237</td>\n",
       "    </tr>\n",
       "    <tr>\n",
       "      <th>min</th>\n",
       "      <td>18.000000</td>\n",
       "      <td>15.960000</td>\n",
       "      <td>0.000000</td>\n",
       "      <td>1121.873900</td>\n",
       "    </tr>\n",
       "    <tr>\n",
       "      <th>25%</th>\n",
       "      <td>27.000000</td>\n",
       "      <td>26.296250</td>\n",
       "      <td>0.000000</td>\n",
       "      <td>4740.287150</td>\n",
       "    </tr>\n",
       "    <tr>\n",
       "      <th>50%</th>\n",
       "      <td>39.000000</td>\n",
       "      <td>30.400000</td>\n",
       "      <td>1.000000</td>\n",
       "      <td>9382.033000</td>\n",
       "    </tr>\n",
       "    <tr>\n",
       "      <th>75%</th>\n",
       "      <td>51.000000</td>\n",
       "      <td>34.693750</td>\n",
       "      <td>2.000000</td>\n",
       "      <td>16639.912515</td>\n",
       "    </tr>\n",
       "    <tr>\n",
       "      <th>max</th>\n",
       "      <td>64.000000</td>\n",
       "      <td>53.130000</td>\n",
       "      <td>5.000000</td>\n",
       "      <td>63770.428010</td>\n",
       "    </tr>\n",
       "  </tbody>\n",
       "</table>\n",
       "</div>"
      ],
      "text/plain": [
       "               age          bmi     children       charges\n",
       "count  1338.000000  1338.000000  1338.000000   1338.000000\n",
       "mean     39.207025    30.663397     1.094918  13270.422265\n",
       "std      14.049960     6.098187     1.205493  12110.011237\n",
       "min      18.000000    15.960000     0.000000   1121.873900\n",
       "25%      27.000000    26.296250     0.000000   4740.287150\n",
       "50%      39.000000    30.400000     1.000000   9382.033000\n",
       "75%      51.000000    34.693750     2.000000  16639.912515\n",
       "max      64.000000    53.130000     5.000000  63770.428010"
      ]
     },
     "execution_count": 4,
     "metadata": {},
     "output_type": "execute_result"
    }
   ],
   "source": [
    "df.describe()"
   ]
  },
  {
   "cell_type": "code",
   "execution_count": 5,
   "id": "7b6b9333",
   "metadata": {},
   "outputs": [
    {
     "name": "stdout",
     "output_type": "stream",
     "text": [
      "<class 'pandas.core.frame.DataFrame'>\n",
      "RangeIndex: 1338 entries, 0 to 1337\n",
      "Data columns (total 7 columns):\n",
      " #   Column    Non-Null Count  Dtype  \n",
      "---  ------    --------------  -----  \n",
      " 0   age       1338 non-null   int64  \n",
      " 1   sex       1338 non-null   object \n",
      " 2   bmi       1338 non-null   float64\n",
      " 3   children  1338 non-null   int64  \n",
      " 4   smoker    1338 non-null   object \n",
      " 5   region    1338 non-null   object \n",
      " 6   charges   1338 non-null   float64\n",
      "dtypes: float64(2), int64(2), object(3)\n",
      "memory usage: 73.3+ KB\n"
     ]
    }
   ],
   "source": [
    "df.info()"
   ]
  },
  {
   "cell_type": "markdown",
   "id": "d570fb30",
   "metadata": {},
   "source": [
    "Convert text value to numeric"
   ]
  },
  {
   "cell_type": "code",
   "execution_count": 6,
   "id": "365b86bc",
   "metadata": {},
   "outputs": [],
   "source": [
    "labelEncoder = LabelEncoder()\n",
    "\n",
    "df[\"sex\"] = labelEncoder.fit_transform(df[\"sex\"])\n",
    "# map for sex\n",
    "sex = {index : label for index, label in enumerate(labelEncoder.classes_)}\n",
    "\n",
    "df[\"smoker\"] = labelEncoder.fit_transform(df[\"smoker\"])\n",
    "# map for smoker\n",
    "smoker = {index: label for index,label in enumerate(labelEncoder.classes_)}\n",
    "\n",
    "df[\"region\"] = labelEncoder.fit_transform(df[\"region\"])\n",
    "# map for region\n",
    "region = {index: label for index,label in enumerate(labelEncoder.classes_)}"
   ]
  },
  {
   "cell_type": "code",
   "execution_count": 7,
   "id": "0bba8e22",
   "metadata": {},
   "outputs": [
    {
     "data": {
      "text/html": [
       "<div>\n",
       "<style scoped>\n",
       "    .dataframe tbody tr th:only-of-type {\n",
       "        vertical-align: middle;\n",
       "    }\n",
       "\n",
       "    .dataframe tbody tr th {\n",
       "        vertical-align: top;\n",
       "    }\n",
       "\n",
       "    .dataframe thead th {\n",
       "        text-align: right;\n",
       "    }\n",
       "</style>\n",
       "<table border=\"1\" class=\"dataframe\">\n",
       "  <thead>\n",
       "    <tr style=\"text-align: right;\">\n",
       "      <th></th>\n",
       "      <th>age</th>\n",
       "      <th>sex</th>\n",
       "      <th>bmi</th>\n",
       "      <th>children</th>\n",
       "      <th>smoker</th>\n",
       "      <th>region</th>\n",
       "      <th>charges</th>\n",
       "    </tr>\n",
       "  </thead>\n",
       "  <tbody>\n",
       "    <tr>\n",
       "      <th>0</th>\n",
       "      <td>19</td>\n",
       "      <td>0</td>\n",
       "      <td>27.900</td>\n",
       "      <td>0</td>\n",
       "      <td>1</td>\n",
       "      <td>3</td>\n",
       "      <td>16884.92400</td>\n",
       "    </tr>\n",
       "    <tr>\n",
       "      <th>1</th>\n",
       "      <td>18</td>\n",
       "      <td>1</td>\n",
       "      <td>33.770</td>\n",
       "      <td>1</td>\n",
       "      <td>0</td>\n",
       "      <td>2</td>\n",
       "      <td>1725.55230</td>\n",
       "    </tr>\n",
       "    <tr>\n",
       "      <th>2</th>\n",
       "      <td>28</td>\n",
       "      <td>1</td>\n",
       "      <td>33.000</td>\n",
       "      <td>3</td>\n",
       "      <td>0</td>\n",
       "      <td>2</td>\n",
       "      <td>4449.46200</td>\n",
       "    </tr>\n",
       "    <tr>\n",
       "      <th>3</th>\n",
       "      <td>33</td>\n",
       "      <td>1</td>\n",
       "      <td>22.705</td>\n",
       "      <td>0</td>\n",
       "      <td>0</td>\n",
       "      <td>1</td>\n",
       "      <td>21984.47061</td>\n",
       "    </tr>\n",
       "    <tr>\n",
       "      <th>4</th>\n",
       "      <td>32</td>\n",
       "      <td>1</td>\n",
       "      <td>28.880</td>\n",
       "      <td>0</td>\n",
       "      <td>0</td>\n",
       "      <td>1</td>\n",
       "      <td>3866.85520</td>\n",
       "    </tr>\n",
       "  </tbody>\n",
       "</table>\n",
       "</div>"
      ],
      "text/plain": [
       "   age  sex     bmi  children  smoker  region      charges\n",
       "0   19    0  27.900         0       1       3  16884.92400\n",
       "1   18    1  33.770         1       0       2   1725.55230\n",
       "2   28    1  33.000         3       0       2   4449.46200\n",
       "3   33    1  22.705         0       0       1  21984.47061\n",
       "4   32    1  28.880         0       0       1   3866.85520"
      ]
     },
     "execution_count": 7,
     "metadata": {},
     "output_type": "execute_result"
    }
   ],
   "source": [
    "df.head()"
   ]
  },
  {
   "cell_type": "code",
   "execution_count": 8,
   "id": "3d697b3f",
   "metadata": {},
   "outputs": [
    {
     "name": "stdout",
     "output_type": "stream",
     "text": [
      "<class 'pandas.core.frame.DataFrame'>\n",
      "RangeIndex: 1338 entries, 0 to 1337\n",
      "Data columns (total 7 columns):\n",
      " #   Column    Non-Null Count  Dtype  \n",
      "---  ------    --------------  -----  \n",
      " 0   age       1338 non-null   int64  \n",
      " 1   sex       1338 non-null   int32  \n",
      " 2   bmi       1338 non-null   float64\n",
      " 3   children  1338 non-null   int64  \n",
      " 4   smoker    1338 non-null   int32  \n",
      " 5   region    1338 non-null   int32  \n",
      " 6   charges   1338 non-null   float64\n",
      "dtypes: float64(2), int32(3), int64(2)\n",
      "memory usage: 57.6 KB\n"
     ]
    }
   ],
   "source": [
    "df.info()"
   ]
  },
  {
   "cell_type": "code",
   "execution_count": 9,
   "id": "e91c44a3",
   "metadata": {},
   "outputs": [],
   "source": [
    "# convert to int32 to save memory\n",
    "df[\"children\"] = df[\"children\"].astype(np.int32)\n",
    "df[\"age\"] = df[\"age\"].astype(np.int32)"
   ]
  },
  {
   "cell_type": "code",
   "execution_count": 10,
   "id": "ecf2c25d",
   "metadata": {},
   "outputs": [
    {
     "name": "stdout",
     "output_type": "stream",
     "text": [
      "<class 'pandas.core.frame.DataFrame'>\n",
      "RangeIndex: 1338 entries, 0 to 1337\n",
      "Data columns (total 7 columns):\n",
      " #   Column    Non-Null Count  Dtype  \n",
      "---  ------    --------------  -----  \n",
      " 0   age       1338 non-null   int32  \n",
      " 1   sex       1338 non-null   int32  \n",
      " 2   bmi       1338 non-null   float64\n",
      " 3   children  1338 non-null   int32  \n",
      " 4   smoker    1338 non-null   int32  \n",
      " 5   region    1338 non-null   int32  \n",
      " 6   charges   1338 non-null   float64\n",
      "dtypes: float64(2), int32(5)\n",
      "memory usage: 47.2 KB\n"
     ]
    }
   ],
   "source": [
    "df.info()"
   ]
  },
  {
   "cell_type": "code",
   "execution_count": 11,
   "id": "cfa3ebc4",
   "metadata": {},
   "outputs": [
    {
     "data": {
      "text/plain": [
       "array([[<AxesSubplot:xlabel='age', ylabel='age'>,\n",
       "        <AxesSubplot:xlabel='sex', ylabel='age'>,\n",
       "        <AxesSubplot:xlabel='bmi', ylabel='age'>,\n",
       "        <AxesSubplot:xlabel='children', ylabel='age'>,\n",
       "        <AxesSubplot:xlabel='smoker', ylabel='age'>,\n",
       "        <AxesSubplot:xlabel='region', ylabel='age'>,\n",
       "        <AxesSubplot:xlabel='charges', ylabel='age'>],\n",
       "       [<AxesSubplot:xlabel='age', ylabel='sex'>,\n",
       "        <AxesSubplot:xlabel='sex', ylabel='sex'>,\n",
       "        <AxesSubplot:xlabel='bmi', ylabel='sex'>,\n",
       "        <AxesSubplot:xlabel='children', ylabel='sex'>,\n",
       "        <AxesSubplot:xlabel='smoker', ylabel='sex'>,\n",
       "        <AxesSubplot:xlabel='region', ylabel='sex'>,\n",
       "        <AxesSubplot:xlabel='charges', ylabel='sex'>],\n",
       "       [<AxesSubplot:xlabel='age', ylabel='bmi'>,\n",
       "        <AxesSubplot:xlabel='sex', ylabel='bmi'>,\n",
       "        <AxesSubplot:xlabel='bmi', ylabel='bmi'>,\n",
       "        <AxesSubplot:xlabel='children', ylabel='bmi'>,\n",
       "        <AxesSubplot:xlabel='smoker', ylabel='bmi'>,\n",
       "        <AxesSubplot:xlabel='region', ylabel='bmi'>,\n",
       "        <AxesSubplot:xlabel='charges', ylabel='bmi'>],\n",
       "       [<AxesSubplot:xlabel='age', ylabel='children'>,\n",
       "        <AxesSubplot:xlabel='sex', ylabel='children'>,\n",
       "        <AxesSubplot:xlabel='bmi', ylabel='children'>,\n",
       "        <AxesSubplot:xlabel='children', ylabel='children'>,\n",
       "        <AxesSubplot:xlabel='smoker', ylabel='children'>,\n",
       "        <AxesSubplot:xlabel='region', ylabel='children'>,\n",
       "        <AxesSubplot:xlabel='charges', ylabel='children'>],\n",
       "       [<AxesSubplot:xlabel='age', ylabel='smoker'>,\n",
       "        <AxesSubplot:xlabel='sex', ylabel='smoker'>,\n",
       "        <AxesSubplot:xlabel='bmi', ylabel='smoker'>,\n",
       "        <AxesSubplot:xlabel='children', ylabel='smoker'>,\n",
       "        <AxesSubplot:xlabel='smoker', ylabel='smoker'>,\n",
       "        <AxesSubplot:xlabel='region', ylabel='smoker'>,\n",
       "        <AxesSubplot:xlabel='charges', ylabel='smoker'>],\n",
       "       [<AxesSubplot:xlabel='age', ylabel='region'>,\n",
       "        <AxesSubplot:xlabel='sex', ylabel='region'>,\n",
       "        <AxesSubplot:xlabel='bmi', ylabel='region'>,\n",
       "        <AxesSubplot:xlabel='children', ylabel='region'>,\n",
       "        <AxesSubplot:xlabel='smoker', ylabel='region'>,\n",
       "        <AxesSubplot:xlabel='region', ylabel='region'>,\n",
       "        <AxesSubplot:xlabel='charges', ylabel='region'>],\n",
       "       [<AxesSubplot:xlabel='age', ylabel='charges'>,\n",
       "        <AxesSubplot:xlabel='sex', ylabel='charges'>,\n",
       "        <AxesSubplot:xlabel='bmi', ylabel='charges'>,\n",
       "        <AxesSubplot:xlabel='children', ylabel='charges'>,\n",
       "        <AxesSubplot:xlabel='smoker', ylabel='charges'>,\n",
       "        <AxesSubplot:xlabel='region', ylabel='charges'>,\n",
       "        <AxesSubplot:xlabel='charges', ylabel='charges'>]], dtype=object)"
      ]
     },
     "execution_count": 11,
     "metadata": {},
     "output_type": "execute_result"
    },
    {
     "data": {
      "image/png": "[encoded data removed]",
      "text/plain": [
       "<Figure size 864x576 with 49 Axes>"
      ]
     },
     "metadata": {
      "needs_background": "light"
     },
     "output_type": "display_data"
    }
   ],
   "source": [
    "scatter_matrix(df, figsize=(12,8))"
   ]
  },
  {
   "cell_type": "code",
   "execution_count": 12,
   "id": "d9c71f49",
   "metadata": {},
   "outputs": [
    {
     "data": {
      "text/plain": [
       "<matplotlib.collections.PathCollection at 0x1d5e944f550>"
      ]
     },
     "execution_count": 12,
     "metadata": {},
     "output_type": "execute_result"
    },
    {
     "data": {
      "image/png": "[encoded data removed]",
      "text/plain": [
       "<Figure size 432x288 with 1 Axes>"
      ]
     },
     "metadata": {
      "needs_background": "light"
     },
     "output_type": "display_data"
    }
   ],
   "source": [
    "plt.scatter(df[\"region\"],df[\"charges\"])"
   ]
  },
  {
   "cell_type": "code",
   "execution_count": 13,
   "id": "e969b98d",
   "metadata": {},
   "outputs": [
    {
     "data": {
      "text/plain": [
       "<matplotlib.collections.PathCollection at 0x1d5e95534f0>"
      ]
     },
     "execution_count": 13,
     "metadata": {},
     "output_type": "execute_result"
    },
    {
     "data": {
      "image/png": "[encoded data removed]",
      "text/plain": [
       "<Figure size 432x288 with 1 Axes>"
      ]
     },
     "metadata": {
      "needs_background": "light"
     },
     "output_type": "display_data"
    }
   ],
   "source": [
    "plt.scatter(df[\"children\"],df[\"charges\"])"
   ]
  },
  {
   "cell_type": "code",
   "execution_count": 14,
   "id": "6e8155f8",
   "metadata": {},
   "outputs": [
    {
     "data": {
      "text/plain": [
       "<matplotlib.collections.PathCollection at 0x1d5e95c7100>"
      ]
     },
     "execution_count": 14,
     "metadata": {},
     "output_type": "execute_result"
    },
    {
     "data": {
      "image/png": "[encoded data removed]",
      "text/plain": [
       "<Figure size 432x288 with 1 Axes>"
      ]
     },
     "metadata": {
      "needs_background": "light"
     },
     "output_type": "display_data"
    }
   ],
   "source": [
    "plt.scatter(df[\"sex\"],df[\"charges\"])"
   ]
  },
  {
   "cell_type": "code",
   "execution_count": 15,
   "id": "997152bc",
   "metadata": {},
   "outputs": [
    {
     "data": {
      "text/plain": [
       "<matplotlib.collections.PathCollection at 0x1d5e95c7b80>"
      ]
     },
     "execution_count": 15,
     "metadata": {},
     "output_type": "execute_result"
    },
    {
     "data": {
      "image/png": "[encoded data removed]",
      "text/plain": [
       "<Figure size 432x288 with 1 Axes>"
      ]
     },
     "metadata": {
      "needs_background": "light"
     },
     "output_type": "display_data"
    }
   ],
   "source": [
    "plt.scatter(df[\"smoker\"],df[\"charges\"])"
   ]
  },
  {
   "cell_type": "markdown",
   "id": "a6dccd23",
   "metadata": {},
   "source": [
    "As observed above, We can see there is little or no obvious relationship between the region, sex, number of children and the insurance charges. However, we can observe that there is certain relation between cigarette intake and insurance charges. We can prove by inspecting the median and mean of the insurance charges of the smoking community and non-smoking community"
   ]
  },
  {
   "cell_type": "code",
   "execution_count": 16,
   "id": "30e5c9fc",
   "metadata": {},
   "outputs": [
    {
     "name": "stdout",
     "output_type": "stream",
     "text": [
      "<class 'pandas.core.frame.DataFrame'>\n",
      "Int64Index: 274 entries, 0 to 1337\n",
      "Data columns (total 7 columns):\n",
      " #   Column    Non-Null Count  Dtype  \n",
      "---  ------    --------------  -----  \n",
      " 0   age       274 non-null    int32  \n",
      " 1   sex       274 non-null    int32  \n",
      " 2   bmi       274 non-null    float64\n",
      " 3   children  274 non-null    int32  \n",
      " 4   smoker    274 non-null    int32  \n",
      " 5   region    274 non-null    int32  \n",
      " 6   charges   274 non-null    float64\n",
      "dtypes: float64(2), int32(5)\n",
      "memory usage: 11.8 KB\n"
     ]
    }
   ],
   "source": [
    "smoker = df.loc[df[\"smoker\"] == 1]\n",
    "smoker.info()"
   ]
  },
  {
   "cell_type": "code",
   "execution_count": 17,
   "id": "9437364f",
   "metadata": {},
   "outputs": [
    {
     "name": "stdout",
     "output_type": "stream",
     "text": [
      "<class 'pandas.core.frame.DataFrame'>\n",
      "Int64Index: 277 entries, 41 to 212\n",
      "Data columns (total 7 columns):\n",
      " #   Column    Non-Null Count  Dtype  \n",
      "---  ------    --------------  -----  \n",
      " 0   age       277 non-null    int32  \n",
      " 1   sex       277 non-null    int32  \n",
      " 2   bmi       277 non-null    float64\n",
      " 3   children  277 non-null    int32  \n",
      " 4   smoker    277 non-null    int32  \n",
      " 5   region    277 non-null    int32  \n",
      " 6   charges   277 non-null    float64\n",
      "dtypes: float64(2), int32(5)\n",
      "memory usage: 11.9 KB\n"
     ]
    }
   ],
   "source": [
    "nonSmoker = df.loc[df[\"smoker\"] == 0]\n",
    "nonSmoker.sample(frac=0.26,random_state=42).info()"
   ]
  },
  {
   "cell_type": "markdown",
   "id": "32a1f082",
   "metadata": {},
   "source": [
    "As the non smoking community is larger than the smoking community, we sample a portion from the non smoking community which are roughly of the same size with the smoking community to be compared"
   ]
  },
  {
   "cell_type": "code",
   "execution_count": 18,
   "id": "cb3e7a4c",
   "metadata": {},
   "outputs": [
    {
     "data": {
      "text/plain": [
       "34456.348450000005"
      ]
     },
     "execution_count": 18,
     "metadata": {},
     "output_type": "execute_result"
    }
   ],
   "source": [
    "smoker.charges.median()"
   ]
  },
  {
   "cell_type": "code",
   "execution_count": 19,
   "id": "597f6822",
   "metadata": {},
   "outputs": [
    {
     "data": {
      "text/plain": [
       "7348.142"
      ]
     },
     "execution_count": 19,
     "metadata": {},
     "output_type": "execute_result"
    }
   ],
   "source": [
    "nonSmoker.sample(frac=0.26,random_state=42).charges.median()"
   ]
  },
  {
   "cell_type": "code",
   "execution_count": 20,
   "id": "281c8b7e",
   "metadata": {},
   "outputs": [
    {
     "data": {
      "text/plain": [
       "32050.23183153284"
      ]
     },
     "execution_count": 20,
     "metadata": {},
     "output_type": "execute_result"
    }
   ],
   "source": [
    "smoker.charges.mean()"
   ]
  },
  {
   "cell_type": "code",
   "execution_count": 21,
   "id": "d7133252",
   "metadata": {},
   "outputs": [
    {
     "data": {
      "text/plain": [
       "8434.268297856204"
      ]
     },
     "execution_count": 21,
     "metadata": {},
     "output_type": "execute_result"
    }
   ],
   "source": [
    "nonSmoker.charges.mean()"
   ]
  },
  {
   "cell_type": "markdown",
   "id": "b18de92e",
   "metadata": {},
   "source": [
    "Generally, mean and median of the insurance charges of the smoking community is a lot greater than the non smoker. Hence we can consider the smoker attribute into our Linear Regression Model"
   ]
  },
  {
   "cell_type": "markdown",
   "id": "cb25cc59",
   "metadata": {},
   "source": [
    "Now we drop the unnecessary column from the dataframe"
   ]
  },
  {
   "cell_type": "code",
   "execution_count": 22,
   "id": "edc44fc4",
   "metadata": {},
   "outputs": [],
   "source": [
    "y = np.array(df[\"charges\"])"
   ]
  },
  {
   "cell_type": "code",
   "execution_count": 23,
   "id": "7ef109b0",
   "metadata": {},
   "outputs": [],
   "source": [
    "df.drop(\"charges\",axis=1, inplace=True)\n",
    "df.drop(\"region\",axis=1, inplace=True)\n",
    "df.drop(\"sex\",axis=1, inplace=True)\n",
    "df.drop(\"children\",axis=1, inplace=True)"
   ]
  },
  {
   "cell_type": "code",
   "execution_count": 24,
   "id": "f522f375",
   "metadata": {},
   "outputs": [],
   "source": [
    "X = np.array(df)"
   ]
  },
  {
   "cell_type": "code",
   "execution_count": 25,
   "id": "8c08c96e",
   "metadata": {},
   "outputs": [
    {
     "data": {
      "text/plain": [
       "(1338, 3)"
      ]
     },
     "execution_count": 25,
     "metadata": {},
     "output_type": "execute_result"
    }
   ],
   "source": [
    "# check shape of X and y\n",
    "X.shape"
   ]
  },
  {
   "cell_type": "code",
   "execution_count": 26,
   "id": "212a9187",
   "metadata": {},
   "outputs": [
    {
     "data": {
      "text/plain": [
       "(1338,)"
      ]
     },
     "execution_count": 26,
     "metadata": {},
     "output_type": "execute_result"
    }
   ],
   "source": [
    "y.shape"
   ]
  },
  {
   "cell_type": "markdown",
   "id": "07252ea5",
   "metadata": {},
   "source": [
    "Train the model"
   ]
  },
  {
   "cell_type": "markdown",
   "id": "cff58e19",
   "metadata": {},
   "source": [
    "Import and use the sklearn LinearRegression model to compare the performance "
   ]
  },
  {
   "cell_type": "code",
   "execution_count": 27,
   "id": "3134b11c",
   "metadata": {},
   "outputs": [],
   "source": [
    "model1 = LinearRegression()"
   ]
  },
  {
   "cell_type": "code",
   "execution_count": 28,
   "id": "cae77794",
   "metadata": {},
   "outputs": [],
   "source": [
    "X_train,X_test,y_train,y_test = train_test_split(X,y,train_size=0.9)"
   ]
  },
  {
   "cell_type": "code",
   "execution_count": 29,
   "id": "6ab69367",
   "metadata": {},
   "outputs": [
    {
     "data": {
      "text/plain": [
       "LinearRegression()"
      ]
     },
     "execution_count": 29,
     "metadata": {},
     "output_type": "execute_result"
    }
   ],
   "source": [
    "model1.fit(X_train,y_train)"
   ]
  },
  {
   "cell_type": "code",
   "execution_count": 30,
   "id": "810b81c8",
   "metadata": {},
   "outputs": [],
   "source": [
    "y_pred = model1.predict(X_test)"
   ]
  },
  {
   "cell_type": "code",
   "execution_count": 31,
   "id": "72e26672",
   "metadata": {},
   "outputs": [
    {
     "name": "stdout",
     "output_type": "stream",
     "text": [
      "Model 1 Score\n",
      "MSE:46513631.18022015\n",
      "RMSE:6820.09026188218\n",
      "MAE:4605.648959044951\n"
     ]
    }
   ],
   "source": [
    "# model score\n",
    "MSE = mean_squared_error(y_test, y_pred)\n",
    "RMSE = np.sqrt(mean_squared_error(y_test, y_pred))\n",
    "MAE = mean_absolute_error(y_test, y_pred)\n",
    "print(f\"Model 1 Score\\nMSE:{MSE}\\nRMSE:{RMSE}\\nMAE:{MAE}\")"
   ]
  },
  {
   "cell_type": "markdown",
   "id": "fabc4617",
   "metadata": {},
   "source": [
    "Testing the performance of my own implementation of Linear Regression"
   ]
  },
  {
   "cell_type": "markdown",
   "id": "6f935fa7",
   "metadata": {},
   "source": [
    "Batch Gradient Descent"
   ]
  },
  {
   "cell_type": "code",
   "execution_count": 32,
   "id": "804c9dd3",
   "metadata": {},
   "outputs": [],
   "source": [
    "from LinearRegression import LinearRegression as LinearReg"
   ]
  },
  {
   "cell_type": "code",
   "execution_count": 33,
   "id": "6237fa02",
   "metadata": {},
   "outputs": [],
   "source": [
    "model2 = LinearReg()"
   ]
  },
  {
   "cell_type": "code",
   "execution_count": 34,
   "id": "82de52fe",
   "metadata": {},
   "outputs": [
    {
     "name": "stderr",
     "output_type": "stream",
     "text": [
      "Epoch #20000: : 100%|███████████████████████████████████████████████████████| 20000/20000 [00:11<00:00, 1816.94Epoch/s]\n"
     ]
    }
   ],
   "source": [
    "model2.fit(X_train,y_train,epoch=20000,learning_rate=0.00075,quiet=False)"
   ]
  },
  {
   "cell_type": "code",
   "execution_count": 35,
   "id": "9e7e95e2",
   "metadata": {},
   "outputs": [],
   "source": [
    "y_pred = model2.predict(X_test)"
   ]
  },
  {
   "cell_type": "code",
   "execution_count": 36,
   "id": "34abd6f1",
   "metadata": {},
   "outputs": [
    {
     "name": "stdout",
     "output_type": "stream",
     "text": [
      "Model 2 Score\n",
      "MSE:47855671.243895985\n",
      "RMSE:6917.7793578500305\n",
      "MAE:4758.7975051639505\n"
     ]
    }
   ],
   "source": [
    "MSE = mean_squared_error(y_test, y_pred)\n",
    "RMSE = np.sqrt(mean_squared_error(y_test, y_pred))\n",
    "MAE = mean_absolute_error(y_test, y_pred)\n",
    "print(f\"Model 2 Score\\nMSE:{MSE}\\nRMSE:{RMSE}\\nMAE:{MAE}\")"
   ]
  },
  {
   "cell_type": "markdown",
   "id": "2285e044",
   "metadata": {},
   "source": [
    "Stochastic Gradient Descent"
   ]
  },
  {
   "cell_type": "code",
   "execution_count": 37,
   "id": "8954a74a",
   "metadata": {},
   "outputs": [],
   "source": [
    "model3 = LinearReg()"
   ]
  },
  {
   "cell_type": "code",
   "execution_count": 38,
   "id": "919249b4",
   "metadata": {},
   "outputs": [
    {
     "name": "stderr",
     "output_type": "stream",
     "text": [
      "Epoch #500: : 100%|██████████████████████████████████████████████████████████████| 500/500 [00:03<00:00, 133.33Epoch/s]\n"
     ]
    }
   ],
   "source": [
    "model3.fit(X_train,y_train,epoch=500,learning_rate=0.00035,optimizer=\"SGD\",quiet=False)"
   ]
  },
  {
   "cell_type": "code",
   "execution_count": 39,
   "id": "f8cfe34c",
   "metadata": {},
   "outputs": [],
   "source": [
    "y_pred = model3.predict(X_test)"
   ]
  },
  {
   "cell_type": "code",
   "execution_count": 40,
   "id": "1ff25a32",
   "metadata": {},
   "outputs": [
    {
     "name": "stdout",
     "output_type": "stream",
     "text": [
      "Model 3 Score\n",
      "MSE:51757210.70474864\n",
      "RMSE:7194.248446137278\n",
      "MAE:4586.493351019503\n"
     ]
    }
   ],
   "source": [
    "MSE = mean_squared_error(y_test, y_pred)\n",
    "RMSE = np.sqrt(mean_squared_error(y_test, y_pred))\n",
    "MAE = mean_absolute_error(y_test, y_pred)\n",
    "print(f\"Model 3 Score\\nMSE:{MSE}\\nRMSE:{RMSE}\\nMAE:{MAE}\")"
   ]
  },
  {
   "cell_type": "markdown",
   "id": "60d53dd7",
   "metadata": {},
   "source": [
    "Mini-batch Gradient Descent"
   ]
  },
  {
   "cell_type": "code",
   "execution_count": 41,
   "id": "edaf4c1b",
   "metadata": {},
   "outputs": [],
   "source": [
    "model4 = LinearReg()"
   ]
  },
  {
   "cell_type": "code",
   "execution_count": 42,
   "id": "b74cf53f",
   "metadata": {},
   "outputs": [
    {
     "name": "stderr",
     "output_type": "stream",
     "text": [
      "Epoch #7500: : 100%|██████████████████████████████████████████████████████████| 7500/7500 [00:06<00:00, 1198.96Epoch/s]\n"
     ]
    }
   ],
   "source": [
    "model4.fit(X_train,y_train,epoch=7500,learning_rate=0.00035,optimizer=\"SGD\",batch_size=64,quiet=False)"
   ]
  },
  {
   "cell_type": "code",
   "execution_count": 43,
   "id": "81f70721",
   "metadata": {},
   "outputs": [],
   "source": [
    "y_pred = model4.predict(X_test)"
   ]
  },
  {
   "cell_type": "code",
   "execution_count": 44,
   "id": "0eb2b1ca",
   "metadata": {},
   "outputs": [
    {
     "name": "stdout",
     "output_type": "stream",
     "text": [
      "Model 4 Score\n",
      "MSE:46576832.24999763\n",
      "RMSE:6824.722137200725\n",
      "MAE:4560.383378012177\n"
     ]
    }
   ],
   "source": [
    "MSE = mean_squared_error(y_test, y_pred)\n",
    "RMSE = np.sqrt(mean_squared_error(y_test, y_pred))\n",
    "MAE = mean_absolute_error(y_test, y_pred)\n",
    "print(f\"Model 4 Score\\nMSE:{MSE}\\nRMSE:{RMSE}\\nMAE:{MAE}\")"
   ]
  }
 ],
 "metadata": {
  "kernelspec": {
   "display_name": "Python 3 (ipykernel)",
   "language": "python",
   "name": "python3"
  },
  "language_info": {
   "codemirror_mode": {
    "name": "ipython",
    "version": 3
   },
   "file_extension": ".py",
   "mimetype": "text/x-python",
   "name": "python",
   "nbconvert_exporter": "python",
   "pygments_lexer": "ipython3",
   "version": "3.10.2"
  }
 },
 "nbformat": 4,
 "nbformat_minor": 5
}
