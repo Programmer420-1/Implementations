{
 "cells": [
  {
   "cell_type": "markdown",
   "id": "50fb5888",
   "metadata": {},
   "source": [
    "Import necessary dependencies"
   ]
  },
  {
   "cell_type": "code",
   "execution_count": null,
   "id": "9deaec95",
   "metadata": {},
   "outputs": [],
   "source": [
    "import numpy as np\n",
    "import pandas as pd\n",
    "from pandas.plotting import scatter_matrix\n",
    "import matplotlib.pyplot as plt\n",
    "from sklearn.preprocessing import LabelEncoder\n",
    "from sklearn.model_selection import train_test_split\n",
    "from sklearn.linear_model import LinearRegression\n",
    "from sklearn.metrics import mean_squared_error, mean_absolute_error"
   ]
  },
  {
   "cell_type": "markdown",
   "id": "3f1c2ab4",
   "metadata": {},
   "source": [
    "Data analysis"
   ]
  },
  {
   "cell_type": "code",
   "execution_count": null,
   "id": "d5e38ba0",
   "metadata": {},
   "outputs": [],
   "source": [
    "df = pd.read_csv(r\"Datasets/Medical charges/insurance.csv\")"
   ]
  },
  {
   "cell_type": "code",
   "execution_count": null,
   "id": "3928862b",
   "metadata": {},
   "outputs": [],
   "source": [
    "df.head()"
   ]
  },
  {
   "cell_type": "code",
   "execution_count": null,
   "id": "d973cf67",
   "metadata": {},
   "outputs": [],
   "source": [
    "df.describe()"
   ]
  },
  {
   "cell_type": "code",
   "execution_count": null,
   "id": "7b6b9333",
   "metadata": {},
   "outputs": [],
   "source": [
    "df.info()"
   ]
  },
  {
   "cell_type": "markdown",
   "id": "d570fb30",
   "metadata": {},
   "source": [
    "Convert text value to numeric"
   ]
  },
  {
   "cell_type": "code",
   "execution_count": null,
   "id": "365b86bc",
   "metadata": {},
   "outputs": [],
   "source": [
    "labelEncoder = LabelEncoder()\n",
    "\n",
    "df[\"sex\"] = labelEncoder.fit_transform(df[\"sex\"])\n",
    "# map for sex\n",
    "sex = {index : label for index, label in enumerate(labelEncoder.classes_)}\n",
    "\n",
    "df[\"smoker\"] = labelEncoder.fit_transform(df[\"smoker\"])\n",
    "# map for smoker\n",
    "smoker = {index: label for index,label in enumerate(labelEncoder.classes_)}\n",
    "\n",
    "df[\"region\"] = labelEncoder.fit_transform(df[\"region\"])\n",
    "# map for region\n",
    "region = {index: label for index,label in enumerate(labelEncoder.classes_)}"
   ]
  },
  {
   "cell_type": "code",
   "execution_count": null,
   "id": "0bba8e22",
   "metadata": {},
   "outputs": [],
   "source": [
    "df.head()"
   ]
  },
  {
   "cell_type": "code",
   "execution_count": null,
   "id": "3d697b3f",
   "metadata": {},
   "outputs": [],
   "source": [
    "df.info()"
   ]
  },
  {
   "cell_type": "code",
   "execution_count": null,
   "id": "e91c44a3",
   "metadata": {},
   "outputs": [],
   "source": [
    "# convert to int32 to save memory\n",
    "df[\"children\"] = df[\"children\"].astype(np.int32)\n",
    "df[\"age\"] = df[\"age\"].astype(np.int32)"
   ]
  },
  {
   "cell_type": "code",
   "execution_count": null,
   "id": "ecf2c25d",
   "metadata": {},
   "outputs": [],
   "source": [
    "df.info()"
   ]
  },
  {
   "cell_type": "code",
   "execution_count": null,
   "id": "cfa3ebc4",
   "metadata": {},
   "outputs": [],
   "source": [
    "scatter_matrix(df, figsize=(12,8))"
   ]
  },
  {
   "cell_type": "code",
   "execution_count": null,
   "id": "d9c71f49",
   "metadata": {},
   "outputs": [],
   "source": [
    "plt.scatter(df[\"region\"],df[\"charges\"])"
   ]
  },
  {
   "cell_type": "code",
   "execution_count": null,
   "id": "e969b98d",
   "metadata": {},
   "outputs": [],
   "source": [
    "plt.scatter(df[\"children\"],df[\"charges\"])"
   ]
  },
  {
   "cell_type": "code",
   "execution_count": null,
   "id": "6e8155f8",
   "metadata": {},
   "outputs": [],
   "source": [
    "plt.scatter(df[\"sex\"],df[\"charges\"])"
   ]
  },
  {
   "cell_type": "code",
   "execution_count": null,
   "id": "997152bc",
   "metadata": {},
   "outputs": [],
   "source": [
    "plt.scatter(df[\"smoker\"],df[\"charges\"])"
   ]
  },
  {
   "cell_type": "markdown",
   "id": "a6dccd23",
   "metadata": {},
   "source": [
    "As observed above, We can see there is little or no obvious relationship between the region, sex, number of children and the insurance charges. However, we can observe that there is certain relation between cigarette intake and insurance charges. We can prove by inspecting the median and mean of the insurance charges of the smoking community and non-smoking community"
   ]
  },
  {
   "cell_type": "code",
   "execution_count": null,
   "id": "30e5c9fc",
   "metadata": {},
   "outputs": [],
   "source": [
    "smoker = df.loc[df[\"smoker\"] == 1]\n",
    "smoker.info()"
   ]
  },
  {
   "cell_type": "code",
   "execution_count": null,
   "id": "9437364f",
   "metadata": {},
   "outputs": [],
   "source": [
    "nonSmoker = df.loc[df[\"smoker\"] == 0]\n",
    "nonSmoker.sample(frac=0.26,random_state=42).info()"
   ]
  },
  {
   "cell_type": "markdown",
   "id": "32a1f082",
   "metadata": {},
   "source": [
    "As the non smoking community is larger than the smoking community, we sample a portion from the non smoking community which are roughly of the same size with the smoking community to be compared"
   ]
  },
  {
   "cell_type": "code",
   "execution_count": null,
   "id": "cb3e7a4c",
   "metadata": {},
   "outputs": [],
   "source": [
    "smoker.charges.median()"
   ]
  },
  {
   "cell_type": "code",
   "execution_count": null,
   "id": "597f6822",
   "metadata": {},
   "outputs": [],
   "source": [
    "nonSmoker.sample(frac=0.26,random_state=42).charges.median()"
   ]
  },
  {
   "cell_type": "code",
   "execution_count": null,
   "id": "281c8b7e",
   "metadata": {},
   "outputs": [],
   "source": [
    "smoker.charges.mean()"
   ]
  },
  {
   "cell_type": "code",
   "execution_count": null,
   "id": "d7133252",
   "metadata": {},
   "outputs": [],
   "source": [
    "nonSmoker.charges.mean()"
   ]
  },
  {
   "cell_type": "markdown",
   "id": "b18de92e",
   "metadata": {},
   "source": [
    "Generally, mean and median of the insurance charges of the smoking community is a lot greater than the non smoker. Hence we can consider the smoker attribute into our Linear Regression Model"
   ]
  },
  {
   "cell_type": "markdown",
   "id": "cb25cc59",
   "metadata": {},
   "source": [
    "Now we drop the unnecessary column from the dataframe"
   ]
  },
  {
   "cell_type": "code",
   "execution_count": null,
   "id": "edc44fc4",
   "metadata": {},
   "outputs": [],
   "source": [
    "y = np.array(df[\"charges\"])"
   ]
  },
  {
   "cell_type": "code",
   "execution_count": null,
   "id": "7ef109b0",
   "metadata": {},
   "outputs": [],
   "source": [
    "df.drop(\"charges\",axis=1, inplace=True)\n",
    "df.drop(\"region\",axis=1, inplace=True)\n",
    "df.drop(\"sex\",axis=1, inplace=True)\n",
    "df.drop(\"children\",axis=1, inplace=True)"
   ]
  },
  {
   "cell_type": "code",
   "execution_count": null,
   "id": "f522f375",
   "metadata": {},
   "outputs": [],
   "source": [
    "X = np.array(df)"
   ]
  },
  {
   "cell_type": "code",
   "execution_count": null,
   "id": "8c08c96e",
   "metadata": {},
   "outputs": [],
   "source": [
    "# check shape of X and y\n",
    "X.shape"
   ]
  },
  {
   "cell_type": "code",
   "execution_count": null,
   "id": "212a9187",
   "metadata": {},
   "outputs": [],
   "source": [
    "y.shape"
   ]
  },
  {
   "cell_type": "markdown",
   "id": "07252ea5",
   "metadata": {},
   "source": [
    "Train the model"
   ]
  },
  {
   "cell_type": "code",
   "execution_count": null,
   "id": "3134b11c",
   "metadata": {},
   "outputs": [],
   "source": [
    "model1 = LinearRegression()"
   ]
  },
  {
   "cell_type": "code",
   "execution_count": null,
   "id": "cae77794",
   "metadata": {},
   "outputs": [],
   "source": [
    "X_train,X_test,y_train,y_test = train_test_split(X,y,train_size=0.9)"
   ]
  },
  {
   "cell_type": "code",
   "execution_count": null,
   "id": "6ab69367",
   "metadata": {},
   "outputs": [],
   "source": [
    "model1.fit(X_train,y_train)"
   ]
  },
  {
   "cell_type": "code",
   "execution_count": null,
   "id": "810b81c8",
   "metadata": {},
   "outputs": [],
   "source": [
    "y_pred = model1.predict(X_test)"
   ]
  },
  {
   "cell_type": "code",
   "execution_count": null,
   "id": "72e26672",
   "metadata": {},
   "outputs": [],
   "source": [
    "# model score\n",
    "MSE = mean_squared_error(y_test, y_pred)\n",
    "RMSE = np.sqrt(mean_squared_error(y_test, y_pred))\n",
    "MAE = mean_absolute_error(y_test, y_pred)\n",
    "print(f\"Model 1 Score\\nMSE:{MSE}\\nRMSE:{RMSE}\\nMAE:{MAE}\")"
   ]
  },
  {
   "cell_type": "markdown",
   "id": "fabc4617",
   "metadata": {},
   "source": [
    "Testing the performance of my own implementation of Linear Regression"
   ]
  },
  {
   "cell_type": "markdown",
   "id": "6f935fa7",
   "metadata": {},
   "source": [
    "Batch Gradient Descent"
   ]
  },
  {
   "cell_type": "code",
   "execution_count": null,
   "id": "804c9dd3",
   "metadata": {},
   "outputs": [],
   "source": [
    "from LinearRegression import LinearRegression as LinearReg"
   ]
  },
  {
   "cell_type": "code",
   "execution_count": null,
   "id": "6237fa02",
   "metadata": {},
   "outputs": [],
   "source": [
    "model2 = LinearReg()"
   ]
  },
  {
   "cell_type": "code",
   "execution_count": null,
   "id": "82de52fe",
   "metadata": {},
   "outputs": [],
   "source": [
    "model2.fit(X_train,y_train,epoch=20000,learning_rate=0.00075)"
   ]
  },
  {
   "cell_type": "code",
   "execution_count": null,
   "id": "9e7e95e2",
   "metadata": {},
   "outputs": [],
   "source": [
    "y_pred = model2.predict(X_test)"
   ]
  },
  {
   "cell_type": "code",
   "execution_count": null,
   "id": "34abd6f1",
   "metadata": {},
   "outputs": [],
   "source": [
    "MSE = mean_squared_error(y_test, y_pred)\n",
    "RMSE = np.sqrt(mean_squared_error(y_test, y_pred))\n",
    "MAE = mean_absolute_error(y_test, y_pred)\n",
    "print(f\"Model 2 Score\\nMSE:{MSE}\\nRMSE:{RMSE}\\nMAE:{MAE}\")"
   ]
  },
  {
   "cell_type": "markdown",
   "id": "2285e044",
   "metadata": {},
   "source": [
    "Stochastic Gradient Descent"
   ]
  },
  {
   "cell_type": "code",
   "execution_count": null,
   "id": "8954a74a",
   "metadata": {},
   "outputs": [],
   "source": [
    "model3 = LinearReg()"
   ]
  },
  {
   "cell_type": "code",
   "execution_count": null,
   "id": "919249b4",
   "metadata": {},
   "outputs": [],
   "source": [
    "model3.fit(X_train,y_train,epoch=500,learning_rate=0.00035,optimizer=\"SGD\")"
   ]
  },
  {
   "cell_type": "code",
   "execution_count": null,
   "id": "f8cfe34c",
   "metadata": {},
   "outputs": [],
   "source": [
    "y_pred = model3.predict(X_test)"
   ]
  },
  {
   "cell_type": "code",
   "execution_count": null,
   "id": "1ff25a32",
   "metadata": {},
   "outputs": [],
   "source": [
    "MSE = mean_squared_error(y_test, y_pred)\n",
    "RMSE = np.sqrt(mean_squared_error(y_test, y_pred))\n",
    "MAE = mean_absolute_error(y_test, y_pred)\n",
    "print(f\"Model 3 Score\\nMSE:{MSE}\\nRMSE:{RMSE}\\nMAE:{MAE}\")"
   ]
  },
  {
   "cell_type": "markdown",
   "id": "60d53dd7",
   "metadata": {},
   "source": [
    "Mini-batch Gradient Descent"
   ]
  },
  {
   "cell_type": "code",
   "execution_count": null,
   "id": "edaf4c1b",
   "metadata": {},
   "outputs": [],
   "source": [
    "model4 = LinearReg()"
   ]
  },
  {
   "cell_type": "code",
   "execution_count": null,
   "id": "b74cf53f",
   "metadata": {},
   "outputs": [],
   "source": [
    "model4.fit(X_train,y_train,epoch=7500,learning_rate=0.00035,optimizer=\"SGD\",batch_size=64)"
   ]
  },
  {
   "cell_type": "code",
   "execution_count": null,
   "id": "81f70721",
   "metadata": {},
   "outputs": [],
   "source": [
    "y_pred = model4.predict(X_test)"
   ]
  },
  {
   "cell_type": "code",
   "execution_count": null,
   "id": "1ff25a32",
   "metadata": {},
   "outputs": [],
   "source": [
    "MSE = mean_squared_error(y_test, y_pred)\n",
    "RMSE = np.sqrt(mean_squared_error(y_test, y_pred))\n",
    "MAE = mean_absolute_error(y_test, y_pred)\n",
    "print(f\"Model 4 Score\\nMSE:{MSE}\\nRMSE:{RMSE}\\nMAE:{MAE}\")"
   ]
  },
  {
   "cell_type": "code",
   "execution_count": null,
   "id": "bbb84e67",
   "metadata": {},
   "outputs": [],
   "source": []
  },
  {
   "cell_type": "code",
   "execution_count": null,
   "id": "2090277b",
   "metadata": {},
   "outputs": [],
   "source": []
  }
 ],
 "metadata": {
  "kernelspec": {
   "display_name": "Python 3 (ipykernel)",
   "language": "python",
   "name": "python3"
  },
  "language_info": {
   "codemirror_mode": {
    "name": "ipython",
    "version": 3
   },
   "file_extension": ".py",
   "mimetype": "text/x-python",
   "name": "python",
   "nbconvert_exporter": "python",
   "pygments_lexer": "ipython3",
   "version": "3.10.2"
  }
 },
 "nbformat": 4,
 "nbformat_minor": 5
}
